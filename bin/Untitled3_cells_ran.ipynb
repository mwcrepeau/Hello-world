{
 "cells": [
  {
   "cell_type": "markdown",
   "metadata": {
    "kernel": "Bash"
   },
   "source": [
    "Here is the name of the working directory:"
   ]
  },
  {
   "cell_type": "code",
   "execution_count": 1,
   "metadata": {
    "kernel": "Bash"
   },
   "outputs": [
    {
     "name": "stdout",
     "output_type": "stream",
     "text": [
      "/Users/mcrepeau\n"
     ]
    }
   ],
   "source": [
    "pwd"
   ]
  },
  {
   "cell_type": "markdown",
   "metadata": {
    "kernel": "Bash"
   },
   "source": [
    "Here is the contents of the working directory:"
   ]
  },
  {
   "cell_type": "code",
   "execution_count": 2,
   "metadata": {
    "kernel": "Bash"
   },
   "outputs": [
    {
     "name": "stdout",
     "output_type": "stream",
     "text": [
      "\u001b[34mAccellion\u001b[m\u001b[m               \u001b[34mMovies\u001b[m\u001b[m                  \u001b[34manaconda3\u001b[m\u001b[m\n",
      "\u001b[34mApplications\u001b[m\u001b[m            \u001b[34mMusic\u001b[m\u001b[m                   derby.log\n",
      "\u001b[34mCuraExamples\u001b[m\u001b[m            \u001b[34mPictures\u001b[m\u001b[m                \u001b[34medirect\u001b[m\u001b[m\n",
      "\u001b[34mCytoscapeConfiguration\u001b[m\u001b[m  \u001b[34mPublic\u001b[m\u001b[m                  \u001b[34mffmpeg-mac-2\u001b[m\u001b[m\n",
      "\u001b[34mDesktop\u001b[m\u001b[m                 \u001b[34mSites\u001b[m\u001b[m                   \u001b[34mfrom iBook\u001b[m\u001b[m\n",
      "\u001b[34mDocuments\u001b[m\u001b[m               \u001b[34mStolzenberg Lab Dropbox\u001b[m\u001b[m \u001b[34migv\u001b[m\u001b[m\n",
      "\u001b[34mDownloads\u001b[m\u001b[m               Untitled.ipynb          \u001b[34misus\u001b[m\u001b[m\n",
      "\u001b[35mDropbox\u001b[m\u001b[m                 Untitled1.ipynb         \u001b[31mlibmp3lame.dylib\u001b[m\u001b[m\n",
      "\u001b[34mDropbox (Personal)\u001b[m\u001b[m      Untitled1.pdf           test.log\n",
      "\u001b[34mGobbler\u001b[m\u001b[m                 Untitled2.ipynb         \u001b[34mworkspace\u001b[m\u001b[m\n",
      "\u001b[34mLibrary\u001b[m\u001b[m                 Untitled3.ipynb\n"
     ]
    }
   ],
   "source": [
    "ls"
   ]
  },
  {
   "cell_type": "markdown",
   "metadata": {
    "kernel": "Bash"
   },
   "source": [
    "Here is how many items are in the working directory:"
   ]
  },
  {
   "cell_type": "code",
   "execution_count": 3,
   "metadata": {
    "kernel": "Bash"
   },
   "outputs": [
    {
     "name": "stdout",
     "output_type": "stream",
     "text": [
      "      33\n"
     ]
    }
   ],
   "source": [
    "ls -l | wc -l"
   ]
  },
  {
   "cell_type": "markdown",
   "metadata": {
    "kernel": "Bash"
   },
   "source": [
    "*That's all folks!*"
   ]
  }
 ],
 "metadata": {
  "kernelspec": {
   "display_name": "SoS",
   "language": "sos",
   "name": "sos"
  },
  "language_info": {
   "codemirror_mode": "sos",
   "file_extension": ".sos",
   "mimetype": "text/x-sos",
   "name": "sos",
   "nbconvert_exporter": "sos_notebook.converter.SoS_Exporter",
   "pygments_lexer": "sos"
  },
  "sos": {
   "kernels": [
    [
     "Bash",
     "bash",
     "Bash",
     "#E6EEFF",
     ""
    ]
   ],
   "panel": {
    "displayed": true,
    "height": 0
   },
   "version": "0.19.1"
  }
 },
 "nbformat": 4,
 "nbformat_minor": 2
}
